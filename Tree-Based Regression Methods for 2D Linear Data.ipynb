{
 "cells": [
  {
   "cell_type": "markdown",
   "metadata": {},
   "source": [
    "## Tree-Based Regression Methods for 2D Linear Data"
   ]
  },
  {
   "cell_type": "markdown",
   "metadata": {},
   "source": [
    "## Overview\n",
    "\n",
    "The main purpose of this project is to use tree-based methods to solve regression problems. We will fit a `Gradient-Boosted Regression Tree`, a `Random Forest`, and a `Decision Tree` to a noisy 2D linear data set.  Since these models can be trained very quickly on the supplied data, we will first manually adjust hyperparameter values and observe their influence on the model's predictions.\n",
    "\n",
    "\n",
    "\n",
    "We will perform several grid searches, and visualize model predictions for the optimal `Gradient-Boosted Regression Tree`, a `Random Forest`, and `Decision Tree` models that were determined by the grid searches.  Next, we will compute the generalization error on the test set for the three models."
   ]
  },
  {
   "cell_type": "markdown",
   "metadata": {},
   "source": [
    "## Preliminaries\n",
    "\n",
    "Let's import some common packages:"
   ]
  },
  {
   "cell_type": "code",
   "execution_count": 54,
   "metadata": {},
   "outputs": [],
   "source": [
    "# Common imports\n",
    "import matplotlib.pyplot as plt\n",
    "import matplotlib as mpl\n",
    "from matplotlib import cm\n",
    "import numpy as np\n",
    "import pandas as pd\n",
    "%matplotlib inline\n",
    "mpl.rc('axes', labelsize=14)\n",
    "mpl.rc('xtick', labelsize=12)\n",
    "mpl.rc('ytick', labelsize=12)\n",
    "import os\n",
    "\n",
    "# Where to save the figures\n",
    "PROJECT_ROOT_DIR = \".\"\n",
    "FOLDER = \"figures\"\n",
    "IMAGES_PATH = os.path.join(PROJECT_ROOT_DIR, FOLDER)\n",
    "os.makedirs(IMAGES_PATH, exist_ok=True)\n",
    "\n",
    "def save_fig(fig_id, tight_layout=True, fig_extension=\"png\", resolution=300):\n",
    "    path = os.path.join(IMAGES_PATH, fig_id + \".\" + fig_extension)\n",
    "    print(\"Saving figure\", fig_id)\n",
    "    if tight_layout:\n",
    "        plt.tight_layout()\n",
    "    plt.savefig(path, format=fig_extension, dpi=resolution)\n",
    "    \n",
    "def plot_predictions(regressor, X, y, axes, label=None, style=\"r-\", data_style=\"b.\", data_label=None):\n",
    "    x1 = np.linspace(axes[0], axes[1], 500)\n",
    "    y_pred = regressor.predict(x1.reshape(-1, 1)) \n",
    "    plt.plot(X[:, 0], y, data_style, label=data_label)\n",
    "    plt.plot(x1, y_pred, style, linewidth=2, label=label)\n",
    "    if label or data_label:\n",
    "        plt.legend(loc='lower right', fontsize=10)\n",
    "    plt.axis(axes)"
   ]
  },
  {
   "cell_type": "markdown",
   "metadata": {},
   "source": [
    "# Import and Split Data"
   ]
  },
  {
   "cell_type": "code",
   "execution_count": 55,
   "metadata": {},
   "outputs": [],
   "source": [
    "from sklearn.model_selection import train_test_split\n",
    "\n",
    "data = pd.read_csv('2DLinear.csv')\n",
    "\n",
    "X = data['x']\n",
    "y = data['y']\n",
    "\n",
    "X_train, X_test, y_train, y_test = train_test_split(X, y, test_size=.2, random_state=42)\n",
    "\n",
    "# Reshape X Data and Make NumPy Arrays\n",
    "X_train = np.array(X_train).reshape(-1,1)\n",
    "X_test = np.array(X_test).reshape(-1,1)\n",
    "y_train = np.array(y_train)\n",
    "y_test = np.array(y_test)"
   ]
  },
  {
   "cell_type": "markdown",
   "metadata": {},
   "source": [
    "# Plot Data\n"
   ]
  },
  {
   "cell_type": "code",
   "execution_count": 64,
   "metadata": {},
   "outputs": [
    {
     "data": {
      "image/png": "[encoded data removed]",
      "text/plain": [
       "<Figure size 432x288 with 1 Axes>"
      ]
     },
     "metadata": {
      "needs_background": "light"
     },
     "output_type": "display_data"
    }
   ],
   "source": [
    "plt.scatter(X_train, y_train, label='train data')\n",
    "plt.xlabel('x')\n",
    "plt.ylabel('y')\n",
    "plt.legend(loc='lower right', fontsize=10);"
   ]
  },
  {
   "cell_type": "code",
   "execution_count": 65,
   "metadata": {},
   "outputs": [
    {
     "data": {
      "text/plain": [
       "(0.0, 1.995, 3.141, 11.769)"
      ]
     },
     "execution_count": 65,
     "metadata": {},
     "output_type": "execute_result"
    }
   ],
   "source": [
    "#calculating the endpoints of train data, to make a grid for later predictions and plotting\n",
    "x_min = X_train.min().round(3)\n",
    "y_min = y_train.min().round(3)\n",
    "\n",
    "x_max = X_train.max().round(3)\n",
    "y_max = y_train.max().round(3)\n",
    "\n",
    "x_min, x_max, y_min, y_max"
   ]
  },
  {
   "cell_type": "code",
   "execution_count": 66,
   "metadata": {},
   "outputs": [],
   "source": [
    "axes = [0, 2, 0, 12]"
   ]
  },
  {
   "cell_type": "markdown",
   "metadata": {},
   "source": [
    "# Explore 2D Linear Data: GradientBoostingRegressor\n",
    "\n",
    "Now we fit a `GradientBoostingRegressor` model to this data. We manually assign values to the following hyperparameters. We \"play around\" by using different combinations of hyperparameter values to get a feel for how they affect the model's predictions.\n",
    "\n",
    " - `learning_rate = .1`\n",
    " - `max_depth = 2`\n",
    " - `n_estimators = 100`\n",
    " - `random_state = 42`"
   ]
  },
  {
   "cell_type": "code",
   "execution_count": 67,
   "metadata": {},
   "outputs": [
    {
     "data": {
      "text/plain": [
       "GradientBoostingRegressor(max_depth=2, random_state=42)"
      ]
     },
     "execution_count": 67,
     "metadata": {},
     "output_type": "execute_result"
    }
   ],
   "source": [
    "from sklearn.ensemble import GradientBoostingRegressor\n",
    "\n",
    "gboost_reg = GradientBoostingRegressor(learning_rate=.1, \n",
    "                                       max_depth=2, \n",
    "                                       n_estimators=100, \n",
    "                                       random_state=42)\n",
    "gboost_reg.fit(X_train, y_train)"
   ]
  },
  {
   "cell_type": "markdown",
   "metadata": {},
   "source": [
    "### Plot Model Predictions for Training Set"
   ]
  },
  {
   "cell_type": "code",
   "execution_count": 68,
   "metadata": {},
   "outputs": [
    {
     "data": {
      "image/png": "[encoded data removed]",
      "text/plain": [
       "<Figure size 432x288 with 1 Axes>"
      ]
     },
     "metadata": {
      "needs_background": "light"
     },
     "output_type": "display_data"
    }
   ],
   "source": [
    "plot_predictions(gboost_reg, X_train, y_train, axes=axes, label='pred. curve', data_label='train data')"
   ]
  },
  {
   "cell_type": "markdown",
   "metadata": {},
   "source": [
    "# Explore 2D Linear Data: RandomForestRegressor\n",
    "\n",
    "We fit a `RandomForestRegressor` model to this data.  We manually assign values to the following hyperparameters.  We \"play around\" by using different combinations of hyperparameter values to get a feel for how they affect the model's predictions. \n",
    "\n",
    " - `min_samples_split = 4`\n",
    " - `max_depth = 32`\n",
    " - `n_estimators = 1000`\n",
    " - `random_state = 42`"
   ]
  },
  {
   "cell_type": "code",
   "execution_count": 69,
   "metadata": {},
   "outputs": [
    {
     "data": {
      "text/plain": [
       "RandomForestRegressor(max_depth=32, min_samples_split=4, n_estimators=1000,\n",
       "                      random_state=42)"
      ]
     },
     "execution_count": 69,
     "metadata": {},
     "output_type": "execute_result"
    }
   ],
   "source": [
    "from sklearn.ensemble import RandomForestRegressor\n",
    "\n",
    "randForest_reg = RandomForestRegressor(n_estimators=1000, \n",
    "                                       min_samples_split=4,\n",
    "                                       max_depth=32,\n",
    "                                       random_state=42)\n",
    "\n",
    "randForest_reg.fit(X_train, y_train)"
   ]
  },
  {
   "cell_type": "markdown",
   "metadata": {},
   "source": [
    "### Plot Model Predictions for Training Set"
   ]
  },
  {
   "cell_type": "code",
   "execution_count": 70,
   "metadata": {},
   "outputs": [
    {
     "data": {
      "image/png": "[encoded data removed]",
      "text/plain": [
       "<Figure size 432x288 with 1 Axes>"
      ]
     },
     "metadata": {
      "needs_background": "light"
     },
     "output_type": "display_data"
    }
   ],
   "source": [
    "plot_predictions(randForest_reg, X_train, y_train, axes=axes, label='pred. curve', data_label='train data')"
   ]
  },
  {
   "cell_type": "markdown",
   "metadata": {},
   "source": [
    "# Explore 2D Linear Data: DecisionTreeRegressor\n",
    "\n",
    "We fit a `DecisionTreeRegressor` model to this data.  We manually assign values to the following hyperparameters. We \"play around\" by using different combinations of hyperparameter values to  get a feel for how they affect the model's predictions.\n",
    "\n",
    " - `splitter = 'best'`\n",
    " - `max_depth = 16`\n",
    " - `min_samples_split = 12`\n",
    " - `random_state = 42`"
   ]
  },
  {
   "cell_type": "code",
   "execution_count": 71,
   "metadata": {},
   "outputs": [
    {
     "data": {
      "text/plain": [
       "DecisionTreeRegressor(max_depth=16, min_samples_split=12)"
      ]
     },
     "execution_count": 71,
     "metadata": {},
     "output_type": "execute_result"
    }
   ],
   "source": [
    "from sklearn.tree import DecisionTreeRegressor\n",
    "\n",
    "dtree_reg = DecisionTreeRegressor(splitter=\"best\",\n",
    "                                  max_depth=16,\n",
    "                                  min_samples_split=12)\n",
    "\n",
    "dtree_reg.fit(X_train, y_train)"
   ]
  },
  {
   "cell_type": "markdown",
   "metadata": {},
   "source": [
    "### Plot Model Predictions for Training Set"
   ]
  },
  {
   "cell_type": "code",
   "execution_count": 72,
   "metadata": {},
   "outputs": [
    {
     "data": {
      "image/png": "[encoded data removed]",
      "text/plain": [
       "<Figure size 432x288 with 1 Axes>"
      ]
     },
     "metadata": {
      "needs_background": "light"
     },
     "output_type": "display_data"
    }
   ],
   "source": [
    "plot_predictions(dtree_reg, X_train, y_train, axes=axes, label='pred. curve', data_label='train data')"
   ]
  },
  {
   "cell_type": "markdown",
   "metadata": {},
   "source": [
    "## Perform Grid Searches\n",
    "\n",
    "We now perform a series of grid searches, which will yield the optimal hyperparamter values for each of the three model types.\n",
    "\n",
    "We first perform a course-grained grid search, with a very broad range of values first. Then, we perform a second grid search using a tighter range of values centered on those identified in the first grid search. We may have to use another round of grid searching too.\n",
    "\n",
    "   GradientBoostingRegressor:\n",
    "    \n",
    "     - `max_depth = up to 32`\n",
    "     - `n_estimators = up to 1000`\n",
    "     - `learning_rate = from .01 to 1`\n",
    "\n",
    "   RandomForestRegressor:\n",
    "    \n",
    "     - `max_depth = up to 32`\n",
    "     - `n_estimators = up to 1000`\n",
    "     - `min_samples_split = up to 20`\n",
    "\n",
    "   DecisionTreeRegressor:\n",
    "    \n",
    "     - `splitter = [\"best\", \"random\"]`\n",
    "     - `max_depth = up to 32`\n",
    "     - `min_samples_split = up to 20`  "
   ]
  },
  {
   "cell_type": "markdown",
   "metadata": {},
   "source": [
    "## Perform Individual Model Grid Searches\n",
    "\n",
    "In this section we perform a series of grid searches to compute the optimal hyperparameter values for each of the three model types."
   ]
  },
  {
   "cell_type": "code",
   "execution_count": 73,
   "metadata": {},
   "outputs": [
    {
     "name": "stdout",
     "output_type": "stream",
     "text": [
      "Fitting 3 folds for each of 150 candidates, totalling 450 fits\n",
      "The best parameters are:  {'learning_rate': 0.05, 'max_depth': 2, 'n_estimators': 100}\n"
     ]
    }
   ],
   "source": [
    "from sklearn.model_selection import GridSearchCV\n",
    "\n",
    "# -----\n",
    "# Coarse-Grained GradientBoostingRegressor GridSearch\n",
    "# -----\n",
    "\n",
    "gboost_coarse_grid = {'max_depth':[2, 4, 8, 16, 32],\n",
    "                      'n_estimators':[10, 100, 250, 500, 750, 1000],\n",
    "                      'learning_rate':[.01, .05, .1, .5, 1]}\n",
    "\n",
    "gboost_coarse_reg = GridSearchCV(GradientBoostingRegressor(random_state=42), gboost_coarse_grid, verbose=1, cv=3)\n",
    "gboost_coarse_reg.fit(X_train, y_train)\n",
    "\n",
    "print(\"The best parameters are: \", gboost_coarse_reg.best_params_)"
   ]
  },
  {
   "cell_type": "code",
   "execution_count": 75,
   "metadata": {},
   "outputs": [
    {
     "name": "stdout",
     "output_type": "stream",
     "text": [
      "Fitting 3 folds for each of 48 candidates, totalling 144 fits\n",
      "The best parameters are:  {'learning_rate': 0.2, 'max_depth': 2, 'n_estimators': 50}\n"
     ]
    }
   ],
   "source": [
    "# -----\n",
    "# Refined GradientBoostingRegressor GridSearch\n",
    "# -----\n",
    "\n",
    "gboost_fine_grid = {'max_depth':[2, 3],\n",
    "                    'n_estimators':[50, 100, 150, 200],\n",
    "                    'learning_rate':[.2, .25, .4, .5, .6, .75]}\n",
    "\n",
    "gboost_fine_reg = GridSearchCV(GradientBoostingRegressor(random_state=42), gboost_fine_grid, verbose=1, cv=3)\n",
    "gboost_fine_reg.fit(X_train, y_train)\n",
    "\n",
    "print(\"The best parameters are: \", gboost_fine_reg.best_params_)"
   ]
  },
  {
   "cell_type": "code",
   "execution_count": 76,
   "metadata": {},
   "outputs": [
    {
     "name": "stdout",
     "output_type": "stream",
     "text": [
      "Fitting 3 folds for each of 55 candidates, totalling 165 fits\n",
      "The best parameters are:  {'learning_rate': 0.22, 'max_depth': 2, 'n_estimators': 25}\n"
     ]
    }
   ],
   "source": [
    "# -----\n",
    "# Final GradientBoostingRegressor GridSearch\n",
    "# -----\n",
    "\n",
    "gboost_final_grid = {'max_depth':[2],\n",
    "                    'n_estimators':list(range(25, 80, 5)),\n",
    "                    'learning_rate':[.16, .18, .2, .22, .24]}\n",
    "\n",
    "gboost_final_reg = GridSearchCV(GradientBoostingRegressor(random_state=42), gboost_final_grid, verbose=1, cv=3)\n",
    "gboost_final_reg.fit(X_train, y_train)\n",
    "\n",
    "print(\"The best parameters are: \", gboost_final_reg.best_params_)"
   ]
  },
  {
   "cell_type": "markdown",
   "metadata": {},
   "source": [
    "On this dataset, the optimal model parameters for the `GradientBoostingRegressor` class are:\n",
    "\n",
    "- `learning_rate = .22`\n",
    "- `max_depth = 2`\n",
    "- `n_estimators = 25`"
   ]
  },
  {
   "cell_type": "code",
   "execution_count": 77,
   "metadata": {},
   "outputs": [
    {
     "name": "stdout",
     "output_type": "stream",
     "text": [
      "Fitting 3 folds for each of 150 candidates, totalling 450 fits\n",
      "The best parameters are:  {'max_depth': 8, 'min_samples_split': 8, 'n_estimators': 1000}\n"
     ]
    }
   ],
   "source": [
    "# -----\n",
    "# Coarse-Grained RandomForestRegressor GridSearch\n",
    "# -----\n",
    "randForest_coarse_grid = {'max_depth':[2, 4, 8, 16, 32],\n",
    "                          'n_estimators':[10, 100, 250, 500, 750, 1000],\n",
    "                          'min_samples_split':[4, 8, 12, 16, 20]}\n",
    "\n",
    "randForest_coarse_reg = GridSearchCV(RandomForestRegressor(random_state=42), \n",
    "                                      randForest_coarse_grid, verbose=1, cv=3)\n",
    "randForest_coarse_reg.fit(X_train, y_train)\n",
    "\n",
    "print(\"The best parameters are: \", randForest_coarse_reg.best_params_)"
   ]
  },
  {
   "cell_type": "code",
   "execution_count": 78,
   "metadata": {
    "scrolled": true
   },
   "outputs": [
    {
     "name": "stdout",
     "output_type": "stream",
     "text": [
      "Fitting 3 folds for each of 120 candidates, totalling 360 fits\n",
      "The best parameters are:  {'max_depth': 8, 'min_samples_split': 8, 'n_estimators': 1250}\n"
     ]
    }
   ],
   "source": [
    "# -----\n",
    "# Refined RandomForestRegressor GridSearch\n",
    "# -----\n",
    "randForest_fine_grid = {'max_depth':[6, 8, 10, 12, 14],\n",
    "                        'n_estimators':[800, 1000, 1250, 1500],\n",
    "                        'min_samples_split':[6, 7, 8, 9, 10, 11]}\n",
    "\n",
    "randForest_fine_reg = GridSearchCV(RandomForestRegressor(random_state=42), randForest_fine_grid, verbose=1, cv=3)\n",
    "randForest_fine_reg.fit(X_train, y_train)\n",
    "\n",
    "print(\"The best parameters are: \", randForest_fine_reg.best_params_)"
   ]
  },
  {
   "cell_type": "code",
   "execution_count": 79,
   "metadata": {},
   "outputs": [
    {
     "name": "stdout",
     "output_type": "stream",
     "text": [
      "Fitting 3 folds for each of 18 candidates, totalling 54 fits\n",
      "The best parameters are:  {'max_depth': 7, 'min_samples_split': 8, 'n_estimators': 1250}\n"
     ]
    }
   ],
   "source": [
    "# -----\n",
    "# Final RandomForestRegressor GridSearch\n",
    "# -----\n",
    "randForest_final_grid = {'max_depth':[7, 8, 9],\n",
    "                         'n_estimators':list(range(1150, 1450, 50)),\n",
    "                         'min_samples_split':[8]}\n",
    "\n",
    "randForest_final_reg = GridSearchCV(RandomForestRegressor(random_state=42), randForest_final_grid, verbose=1, cv=3)\n",
    "randForest_final_reg.fit(X_train, y_train)\n",
    "\n",
    "print(\"The best parameters are: \", randForest_final_reg.best_params_)"
   ]
  },
  {
   "cell_type": "markdown",
   "metadata": {},
   "source": [
    "On this dataset, the optimal model parameters for the `RandomForestRegressor` class are:\n",
    "\n",
    "- `max_depth = 7`\n",
    "- `n_estimators = 1250`\n",
    "- `min_samples_split = 8`"
   ]
  },
  {
   "cell_type": "code",
   "execution_count": 80,
   "metadata": {},
   "outputs": [
    {
     "name": "stdout",
     "output_type": "stream",
     "text": [
      "Fitting 3 folds for each of 50 candidates, totalling 150 fits\n",
      "The best parameters are:  {'max_depth': 4, 'min_samples_split': 16, 'splitter': 'best'}\n"
     ]
    }
   ],
   "source": [
    "# -----\n",
    "# Coarse-Grained DecisionTreeRegressor GridSearch\n",
    "# -----\n",
    "dtree_coarse_grid = {'splitter':['best', 'random'],\n",
    "                     'max_depth':[2, 4, 8, 16, 32],\n",
    "                     'min_samples_split':[4, 8, 12, 16, 20]}\n",
    "\n",
    "dtree_coarse_reg = GridSearchCV(DecisionTreeRegressor(random_state=42), dtree_coarse_grid, verbose=1, cv=3)\n",
    "dtree_coarse_reg.fit(X_train, y_train)\n",
    "\n",
    "print(\"The best parameters are: \", dtree_coarse_reg.best_params_)"
   ]
  },
  {
   "cell_type": "code",
   "execution_count": 81,
   "metadata": {},
   "outputs": [
    {
     "name": "stdout",
     "output_type": "stream",
     "text": [
      "Fitting 3 folds for each of 30 candidates, totalling 90 fits\n",
      "The best parameters are:  {'max_depth': 5, 'min_samples_split': 13, 'splitter': 'best'}\n"
     ]
    }
   ],
   "source": [
    "# -----\n",
    "# Refined DecisionTreeRegressor GridSearch\n",
    "# -----\n",
    "dtree_fine_grid = {'splitter':['best'],\n",
    "                   'max_depth':[3, 4, 5, 6, 7],\n",
    "                   'min_samples_split':[13, 14, 15, 16, 17, 18]}\n",
    "\n",
    "dtree_fine_reg = GridSearchCV(DecisionTreeRegressor(random_state=42), dtree_fine_grid, verbose=1, cv=3)\n",
    "dtree_fine_reg.fit(X_train, y_train)\n",
    "\n",
    "print(\"The best parameters are: \", dtree_fine_reg.best_params_)"
   ]
  },
  {
   "cell_type": "markdown",
   "metadata": {},
   "source": [
    "On this dataset, the optimal model parameters for the `DecisionTreeRegressor` class are:\n",
    "\n",
    "- `splitter = 'best'`\n",
    "- `max_depth = 5`\n",
    "- `min_samples_split = 13`"
   ]
  },
  {
   "cell_type": "markdown",
   "metadata": {},
   "source": [
    "# Visualize Optimal Model Predictions\n",
    "\n",
    "In the previous section we performed a series of grid searches designed to identify the optimal hyperparameter values for all three models.  Now, we use the `best_params_` attribute of the grid search objects from above to create the three optimal models below.  For each model, we visualize the models predictions on the training set - this is what we mean by the \"prediction curve\" of the model.\n",
    "\n",
    "### Create Optimal GradientBoostingRegressor Model"
   ]
  },
  {
   "cell_type": "code",
   "execution_count": 82,
   "metadata": {},
   "outputs": [
    {
     "data": {
      "text/plain": [
       "GradientBoostingRegressor(learning_rate=0.22, max_depth=2, n_estimators=25,\n",
       "                          random_state=42)"
      ]
     },
     "execution_count": 82,
     "metadata": {},
     "output_type": "execute_result"
    }
   ],
   "source": [
    "gboost_opt = GradientBoostingRegressor(learning_rate=.22, max_depth=2, n_estimators=25, random_state=42)\n",
    "gboost_opt.fit(X_train, y_train)"
   ]
  },
  {
   "cell_type": "markdown",
   "metadata": {},
   "source": [
    "### Plot Model Predictions for Training Set"
   ]
  },
  {
   "cell_type": "code",
   "execution_count": 83,
   "metadata": {},
   "outputs": [
    {
     "data": {
      "image/png": "[encoded data removed]",
      "text/plain": [
       "<Figure size 432x288 with 1 Axes>"
      ]
     },
     "metadata": {
      "needs_background": "light"
     },
     "output_type": "display_data"
    }
   ],
   "source": [
    "plot_predictions(gboost_opt, X_train, y_train, axes=axes, label='pred. curve', data_label='train data')"
   ]
  },
  {
   "cell_type": "markdown",
   "metadata": {},
   "source": [
    "### Create Optimal RandomForestRegressor Model"
   ]
  },
  {
   "cell_type": "code",
   "execution_count": 84,
   "metadata": {},
   "outputs": [
    {
     "data": {
      "text/plain": [
       "RandomForestRegressor(max_depth=7, min_samples_split=8, n_estimators=1250,\n",
       "                      random_state=42)"
      ]
     },
     "execution_count": 84,
     "metadata": {},
     "output_type": "execute_result"
    }
   ],
   "source": [
    "randForest_opt = RandomForestRegressor(n_estimators=1250, max_depth=7, min_samples_split=8, random_state=42)\n",
    "randForest_opt.fit(X_train, y_train)"
   ]
  },
  {
   "cell_type": "markdown",
   "metadata": {},
   "source": [
    "### Plot Model Predictions for Training Set"
   ]
  },
  {
   "cell_type": "code",
   "execution_count": 85,
   "metadata": {},
   "outputs": [
    {
     "data": {
      "image/png": "[encoded data removed]",
      "text/plain": [
       "<Figure size 432x288 with 1 Axes>"
      ]
     },
     "metadata": {
      "needs_background": "light"
     },
     "output_type": "display_data"
    }
   ],
   "source": [
    "plot_predictions(randForest_opt, X_train, y_train, axes=axes, label='pred. curve', data_label='train data')"
   ]
  },
  {
   "cell_type": "markdown",
   "metadata": {},
   "source": [
    "### Create Optimal DecisionTreeRegressor Model"
   ]
  },
  {
   "cell_type": "code",
   "execution_count": 86,
   "metadata": {},
   "outputs": [
    {
     "data": {
      "text/plain": [
       "DecisionTreeRegressor(max_depth=5, min_samples_split=13, random_state=42)"
      ]
     },
     "execution_count": 86,
     "metadata": {},
     "output_type": "execute_result"
    }
   ],
   "source": [
    "dtree_opt = DecisionTreeRegressor(splitter='best', max_depth=5, min_samples_split=13, random_state=42)\n",
    "dtree_opt.fit(X_train, y_train)"
   ]
  },
  {
   "cell_type": "markdown",
   "metadata": {},
   "source": [
    "### Plot Model Predictions for Training Set"
   ]
  },
  {
   "cell_type": "code",
   "execution_count": 87,
   "metadata": {},
   "outputs": [
    {
     "data": {
      "image/png": "[encoded data removed]",
      "text/plain": [
       "<Figure size 432x288 with 1 Axes>"
      ]
     },
     "metadata": {
      "needs_background": "light"
     },
     "output_type": "display_data"
    }
   ],
   "source": [
    "plot_predictions(dtree_opt, X_train, y_train, axes=axes, label='pred. curve', data_label='train data')"
   ]
  },
  {
   "cell_type": "markdown",
   "metadata": {},
   "source": [
    "# Compute Generalization Error\n",
    "\n",
    "We compute the generalization error for each of the optimal models computed above, and we use MSE as the generalization error metric."
   ]
  },
  {
   "cell_type": "code",
   "execution_count": 88,
   "metadata": {},
   "outputs": [
    {
     "name": "stdout",
     "output_type": "stream",
     "text": [
      "MSE for Gradient Boost Regressor: 1.4079\n",
      "MSE for Random Forest Regressor: 1.2747\n",
      "MSE for Random Forest Regressor: 1.3041\n"
     ]
    }
   ],
   "source": [
    "from sklearn.metrics import mean_squared_error \n",
    "\n",
    "#Gradient Boost prediction\n",
    "y_pred_gboost = gboost_opt.predict(X_test)\n",
    "mse_gboost = mean_squared_error(y_test, y_pred_gboost)\n",
    "print(\"MSE for Gradient Boost Regressor:\", round(mse_gboost, 4))\n",
    "\n",
    "#Random Forest prediction\n",
    "y_pred_randForest = randForest_opt.predict(X_test)\n",
    "mse_randForest = mean_squared_error(y_test, y_pred_randForest)\n",
    "print(\"MSE for Random Forest Regressor:\", round(mse_randForest, 4))\n",
    "\n",
    "#Decision Tree prediction\n",
    "y_pred_dtree = dtree_opt.predict(X_test)\n",
    "mse_dtree = mean_squared_error(y_test, y_pred_dtree)\n",
    "print(\"MSE for Random Forest Regressor:\", round(mse_dtree, 4))"
   ]
  },
  {
   "cell_type": "markdown",
   "metadata": {},
   "source": [
    "# Analysis"
   ]
  },
  {
   "cell_type": "markdown",
   "metadata": {},
   "source": [
    "### Gradient Boost Regressor\n",
    "\n",
    "We first plot the prediction curve for the test set."
   ]
  },
  {
   "cell_type": "code",
   "execution_count": 89,
   "metadata": {},
   "outputs": [
    {
     "data": {
      "image/png": "[encoded data removed]",
      "text/plain": [
       "<Figure size 432x288 with 1 Axes>"
      ]
     },
     "metadata": {
      "needs_background": "light"
     },
     "output_type": "display_data"
    }
   ],
   "source": [
    "plot_predictions(gboost_opt, X_test, y_test, axes=axes, label='pred. curve', data_label='test data')"
   ]
  },
  {
   "cell_type": "markdown",
   "metadata": {},
   "source": [
    "We see that Gradient Boost Regressor fits the prediction curve as a stepwise function. It tries to follow an increasing trend rather fit trough every point. It also mostly ignores the outliers while trying to get closer to the cluster of the points."
   ]
  },
  {
   "cell_type": "markdown",
   "metadata": {},
   "source": [
    "### Random Forest Regressor"
   ]
  },
  {
   "cell_type": "code",
   "execution_count": 90,
   "metadata": {},
   "outputs": [
    {
     "data": {
      "image/png": "[encoded data removed]",
      "text/plain": [
       "<Figure size 432x288 with 1 Axes>"
      ]
     },
     "metadata": {
      "needs_background": "light"
     },
     "output_type": "display_data"
    }
   ],
   "source": [
    "plot_predictions(randForest_opt, X_test, y_test, axes=axes, label='pred. curve', data_label='test data')"
   ]
  },
  {
   "cell_type": "markdown",
   "metadata": {},
   "source": [
    "Random Forest Reg. is much more fine-grained than the G-Boost Reg. This is due to a large number of estimators, which try to split the 2D plane into smallest possible but meaningful regions, through which will interpolate the prediction curve. This is why there is no overfit, even though the plot is quite fine-grained, since the algorithm primarily focus on covering and splitting the areas of clustered points, rather than trying to reach the outliers. "
   ]
  },
  {
   "cell_type": "markdown",
   "metadata": {},
   "source": [
    "### Decision Tree Regressor"
   ]
  },
  {
   "cell_type": "code",
   "execution_count": 91,
   "metadata": {},
   "outputs": [
    {
     "data": {
      "image/png": "[encoded data removed]",
      "text/plain": [
       "<Figure size 432x288 with 1 Axes>"
      ]
     },
     "metadata": {
      "needs_background": "light"
     },
     "output_type": "display_data"
    }
   ],
   "source": [
    "plot_predictions(dtree_opt, X_test, y_test, axes=axes, label='pred. curve', data_label='test data')"
   ]
  },
  {
   "cell_type": "markdown",
   "metadata": {},
   "source": [
    "Decision Tree behaves similarly to G-Boost Reg. However, it is even more coarser than the G-Boost (since the 'min_samples_split' hyperparameter is high). Its prediction curve is stepwise monothone, so its primary focus is to follow the growing trend, and not trying to interpolate trough the clusters as well. Although this avoids overfit, it can be prone to underfitting, as some points which are not outliers still remain a bit far from the prediction curve."
   ]
  },
  {
   "cell_type": "markdown",
   "metadata": {},
   "source": [
    "# Final Model Selection and Justification"
   ]
  },
  {
   "cell_type": "markdown",
   "metadata": {},
   "source": [
    "### And the winner is...\n",
    "\n",
    "We select Random Forest Regressor as the Final Model. It might look like an overkill, considering the large number of estimator it requires, and the similarly good performance of Decision Tree, which employs much less resources, we still decide to go with the Random Forest, as we have machines poweful enough to run the training and inference quickly. (Although in case we are restricted to more modest computational resources, we would advise going with the Decision Tree). Moreover, seeing how the prediction line manages to capture the underlying distribution in both the train and test sets, without overfitting, and considering the best MSE score among all three algorithms, we give the final vote to the Random Forest Regressor with the following hyperparameters:\n",
    "\n",
    "- `max_depth = 7`\n",
    "- `n_estimators = 1250`\n",
    "- `min_samples_split = 8`"
   ]
  }
 ],
 "metadata": {
  "kernelspec": {
   "display_name": "Python 3",
   "language": "python",
   "name": "python3"
  },
  "language_info": {
   "codemirror_mode": {
    "name": "ipython",
    "version": 3
   },
   "file_extension": ".py",
   "mimetype": "text/x-python",
   "name": "python",
   "nbconvert_exporter": "python",
   "pygments_lexer": "ipython3",
   "version": "3.8.8"
  }
 },
 "nbformat": 4,
 "nbformat_minor": 2
}
